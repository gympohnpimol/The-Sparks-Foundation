{
 "cells": [
  {
   "cell_type": "code",
   "execution_count": 1,
   "metadata": {
    "_cell_guid": "b1076dfc-b9ad-4769-8c92-a6c4dae69d19",
    "_uuid": "8f2839f25d086af736a60e9eeb907d3b93b6e0e5",
    "execution": {
     "iopub.execute_input": "2021-03-13T06:20:03.966622Z",
     "iopub.status.busy": "2021-03-13T06:20:03.965895Z",
     "iopub.status.idle": "2021-03-13T06:20:03.977161Z",
     "shell.execute_reply": "2021-03-13T06:20:03.976431Z"
    },
    "papermill": {
     "duration": 0.036686,
     "end_time": "2021-03-13T06:20:03.977408",
     "exception": false,
     "start_time": "2021-03-13T06:20:03.940722",
     "status": "completed"
    },
    "tags": []
   },
   "outputs": [
    {
     "name": "stdout",
     "output_type": "stream",
     "text": [
      "/kaggle/input/tmdb-movie-metadata/tmdb_5000_movies.csv\n",
      "/kaggle/input/tmdb-movie-metadata/tmdb_5000_credits.csv\n"
     ]
    }
   ],
   "source": [
    "# This Python 3 environment comes with many helpful analytics libraries installed\n",
    "# It is defined by the kaggle/python Docker image: https://github.com/kaggle/docker-python\n",
    "# For example, here's several helpful packages to load\n",
    "\n",
    "import numpy as np # linear algebra\n",
    "import pandas as pd # data processing, CSV file I/O (e.g. pd.read_csv)\n",
    "\n",
    "# Input data files are available in the read-only \"../input/\" directory\n",
    "# For example, running this (by clicking run or pressing Shift+Enter) will list all files under the input directory\n",
    "\n",
    "import os\n",
    "for dirname, _, filenames in os.walk('/kaggle/input'):\n",
    "    for filename in filenames:\n",
    "        print(os.path.join(dirname, filename))\n",
    "\n",
    "# You can write up to 20GB to the current directory (/kaggle/working/) that gets preserved as output when you create a version using \"Save & Run All\" \n",
    "# You can also write temporary files to /kaggle/temp/, but they won't be saved outside of the current session"
   ]
  },
  {
   "cell_type": "code",
   "execution_count": 2,
   "metadata": {
    "execution": {
     "iopub.execute_input": "2021-03-13T06:20:04.018749Z",
     "iopub.status.busy": "2021-03-13T06:20:04.018005Z",
     "iopub.status.idle": "2021-03-13T06:20:04.968059Z",
     "shell.execute_reply": "2021-03-13T06:20:04.968614Z"
    },
    "papermill": {
     "duration": 0.973046,
     "end_time": "2021-03-13T06:20:04.968802",
     "exception": false,
     "start_time": "2021-03-13T06:20:03.995756",
     "status": "completed"
    },
    "tags": []
   },
   "outputs": [
    {
     "data": {
      "text/html": [
       "<div>\n",
       "<style scoped>\n",
       "    .dataframe tbody tr th:only-of-type {\n",
       "        vertical-align: middle;\n",
       "    }\n",
       "\n",
       "    .dataframe tbody tr th {\n",
       "        vertical-align: top;\n",
       "    }\n",
       "\n",
       "    .dataframe thead th {\n",
       "        text-align: right;\n",
       "    }\n",
       "</style>\n",
       "<table border=\"1\" class=\"dataframe\">\n",
       "  <thead>\n",
       "    <tr style=\"text-align: right;\">\n",
       "      <th></th>\n",
       "      <th>movie_id</th>\n",
       "      <th>title</th>\n",
       "      <th>cast</th>\n",
       "      <th>crew</th>\n",
       "    </tr>\n",
       "  </thead>\n",
       "  <tbody>\n",
       "    <tr>\n",
       "      <th>0</th>\n",
       "      <td>19995</td>\n",
       "      <td>Avatar</td>\n",
       "      <td>[{\"cast_id\": 242, \"character\": \"Jake Sully\", \"...</td>\n",
       "      <td>[{\"credit_id\": \"52fe48009251416c750aca23\", \"de...</td>\n",
       "    </tr>\n",
       "    <tr>\n",
       "      <th>1</th>\n",
       "      <td>285</td>\n",
       "      <td>Pirates of the Caribbean: At World's End</td>\n",
       "      <td>[{\"cast_id\": 4, \"character\": \"Captain Jack Spa...</td>\n",
       "      <td>[{\"credit_id\": \"52fe4232c3a36847f800b579\", \"de...</td>\n",
       "    </tr>\n",
       "    <tr>\n",
       "      <th>2</th>\n",
       "      <td>206647</td>\n",
       "      <td>Spectre</td>\n",
       "      <td>[{\"cast_id\": 1, \"character\": \"James Bond\", \"cr...</td>\n",
       "      <td>[{\"credit_id\": \"54805967c3a36829b5002c41\", \"de...</td>\n",
       "    </tr>\n",
       "    <tr>\n",
       "      <th>3</th>\n",
       "      <td>49026</td>\n",
       "      <td>The Dark Knight Rises</td>\n",
       "      <td>[{\"cast_id\": 2, \"character\": \"Bruce Wayne / Ba...</td>\n",
       "      <td>[{\"credit_id\": \"52fe4781c3a36847f81398c3\", \"de...</td>\n",
       "    </tr>\n",
       "    <tr>\n",
       "      <th>4</th>\n",
       "      <td>49529</td>\n",
       "      <td>John Carter</td>\n",
       "      <td>[{\"cast_id\": 5, \"character\": \"John Carter\", \"c...</td>\n",
       "      <td>[{\"credit_id\": \"52fe479ac3a36847f813eaa3\", \"de...</td>\n",
       "    </tr>\n",
       "  </tbody>\n",
       "</table>\n",
       "</div>"
      ],
      "text/plain": [
       "   movie_id                                     title  \\\n",
       "0     19995                                    Avatar   \n",
       "1       285  Pirates of the Caribbean: At World's End   \n",
       "2    206647                                   Spectre   \n",
       "3     49026                     The Dark Knight Rises   \n",
       "4     49529                               John Carter   \n",
       "\n",
       "                                                cast  \\\n",
       "0  [{\"cast_id\": 242, \"character\": \"Jake Sully\", \"...   \n",
       "1  [{\"cast_id\": 4, \"character\": \"Captain Jack Spa...   \n",
       "2  [{\"cast_id\": 1, \"character\": \"James Bond\", \"cr...   \n",
       "3  [{\"cast_id\": 2, \"character\": \"Bruce Wayne / Ba...   \n",
       "4  [{\"cast_id\": 5, \"character\": \"John Carter\", \"c...   \n",
       "\n",
       "                                                crew  \n",
       "0  [{\"credit_id\": \"52fe48009251416c750aca23\", \"de...  \n",
       "1  [{\"credit_id\": \"52fe4232c3a36847f800b579\", \"de...  \n",
       "2  [{\"credit_id\": \"54805967c3a36829b5002c41\", \"de...  \n",
       "3  [{\"credit_id\": \"52fe4781c3a36847f81398c3\", \"de...  \n",
       "4  [{\"credit_id\": \"52fe479ac3a36847f813eaa3\", \"de...  "
      ]
     },
     "execution_count": 2,
     "metadata": {},
     "output_type": "execute_result"
    }
   ],
   "source": [
    "credits = pd.read_csv('../input/tmdb-movie-metadata/tmdb_5000_credits.csv')\n",
    "credits.head(5)"
   ]
  },
  {
   "cell_type": "code",
   "execution_count": 3,
   "metadata": {
    "execution": {
     "iopub.execute_input": "2021-03-13T06:20:05.010568Z",
     "iopub.status.busy": "2021-03-13T06:20:05.009894Z",
     "iopub.status.idle": "2021-03-13T06:20:05.212941Z",
     "shell.execute_reply": "2021-03-13T06:20:05.212211Z"
    },
    "papermill": {
     "duration": 0.226598,
     "end_time": "2021-03-13T06:20:05.213095",
     "exception": false,
     "start_time": "2021-03-13T06:20:04.986497",
     "status": "completed"
    },
    "tags": []
   },
   "outputs": [
    {
     "data": {
      "text/html": [
       "<div>\n",
       "<style scoped>\n",
       "    .dataframe tbody tr th:only-of-type {\n",
       "        vertical-align: middle;\n",
       "    }\n",
       "\n",
       "    .dataframe tbody tr th {\n",
       "        vertical-align: top;\n",
       "    }\n",
       "\n",
       "    .dataframe thead th {\n",
       "        text-align: right;\n",
       "    }\n",
       "</style>\n",
       "<table border=\"1\" class=\"dataframe\">\n",
       "  <thead>\n",
       "    <tr style=\"text-align: right;\">\n",
       "      <th></th>\n",
       "      <th>budget</th>\n",
       "      <th>genres</th>\n",
       "      <th>homepage</th>\n",
       "      <th>id</th>\n",
       "      <th>keywords</th>\n",
       "      <th>original_language</th>\n",
       "      <th>original_title</th>\n",
       "      <th>overview</th>\n",
       "      <th>popularity</th>\n",
       "      <th>production_companies</th>\n",
       "      <th>production_countries</th>\n",
       "      <th>release_date</th>\n",
       "      <th>revenue</th>\n",
       "      <th>runtime</th>\n",
       "      <th>spoken_languages</th>\n",
       "      <th>status</th>\n",
       "      <th>tagline</th>\n",
       "      <th>title</th>\n",
       "      <th>vote_average</th>\n",
       "      <th>vote_count</th>\n",
       "    </tr>\n",
       "  </thead>\n",
       "  <tbody>\n",
       "    <tr>\n",
       "      <th>0</th>\n",
       "      <td>237000000</td>\n",
       "      <td>[{\"id\": 28, \"name\": \"Action\"}, {\"id\": 12, \"nam...</td>\n",
       "      <td>http://www.avatarmovie.com/</td>\n",
       "      <td>19995</td>\n",
       "      <td>[{\"id\": 1463, \"name\": \"culture clash\"}, {\"id\":...</td>\n",
       "      <td>en</td>\n",
       "      <td>Avatar</td>\n",
       "      <td>In the 22nd century, a paraplegic Marine is di...</td>\n",
       "      <td>150.437577</td>\n",
       "      <td>[{\"name\": \"Ingenious Film Partners\", \"id\": 289...</td>\n",
       "      <td>[{\"iso_3166_1\": \"US\", \"name\": \"United States o...</td>\n",
       "      <td>2009-12-10</td>\n",
       "      <td>2787965087</td>\n",
       "      <td>162.0</td>\n",
       "      <td>[{\"iso_639_1\": \"en\", \"name\": \"English\"}, {\"iso...</td>\n",
       "      <td>Released</td>\n",
       "      <td>Enter the World of Pandora.</td>\n",
       "      <td>Avatar</td>\n",
       "      <td>7.2</td>\n",
       "      <td>11800</td>\n",
       "    </tr>\n",
       "    <tr>\n",
       "      <th>1</th>\n",
       "      <td>300000000</td>\n",
       "      <td>[{\"id\": 12, \"name\": \"Adventure\"}, {\"id\": 14, \"...</td>\n",
       "      <td>http://disney.go.com/disneypictures/pirates/</td>\n",
       "      <td>285</td>\n",
       "      <td>[{\"id\": 270, \"name\": \"ocean\"}, {\"id\": 726, \"na...</td>\n",
       "      <td>en</td>\n",
       "      <td>Pirates of the Caribbean: At World's End</td>\n",
       "      <td>Captain Barbossa, long believed to be dead, ha...</td>\n",
       "      <td>139.082615</td>\n",
       "      <td>[{\"name\": \"Walt Disney Pictures\", \"id\": 2}, {\"...</td>\n",
       "      <td>[{\"iso_3166_1\": \"US\", \"name\": \"United States o...</td>\n",
       "      <td>2007-05-19</td>\n",
       "      <td>961000000</td>\n",
       "      <td>169.0</td>\n",
       "      <td>[{\"iso_639_1\": \"en\", \"name\": \"English\"}]</td>\n",
       "      <td>Released</td>\n",
       "      <td>At the end of the world, the adventure begins.</td>\n",
       "      <td>Pirates of the Caribbean: At World's End</td>\n",
       "      <td>6.9</td>\n",
       "      <td>4500</td>\n",
       "    </tr>\n",
       "    <tr>\n",
       "      <th>2</th>\n",
       "      <td>245000000</td>\n",
       "      <td>[{\"id\": 28, \"name\": \"Action\"}, {\"id\": 12, \"nam...</td>\n",
       "      <td>http://www.sonypictures.com/movies/spectre/</td>\n",
       "      <td>206647</td>\n",
       "      <td>[{\"id\": 470, \"name\": \"spy\"}, {\"id\": 818, \"name...</td>\n",
       "      <td>en</td>\n",
       "      <td>Spectre</td>\n",
       "      <td>A cryptic message from Bond’s past sends him o...</td>\n",
       "      <td>107.376788</td>\n",
       "      <td>[{\"name\": \"Columbia Pictures\", \"id\": 5}, {\"nam...</td>\n",
       "      <td>[{\"iso_3166_1\": \"GB\", \"name\": \"United Kingdom\"...</td>\n",
       "      <td>2015-10-26</td>\n",
       "      <td>880674609</td>\n",
       "      <td>148.0</td>\n",
       "      <td>[{\"iso_639_1\": \"fr\", \"name\": \"Fran\\u00e7ais\"},...</td>\n",
       "      <td>Released</td>\n",
       "      <td>A Plan No One Escapes</td>\n",
       "      <td>Spectre</td>\n",
       "      <td>6.3</td>\n",
       "      <td>4466</td>\n",
       "    </tr>\n",
       "    <tr>\n",
       "      <th>3</th>\n",
       "      <td>250000000</td>\n",
       "      <td>[{\"id\": 28, \"name\": \"Action\"}, {\"id\": 80, \"nam...</td>\n",
       "      <td>http://www.thedarkknightrises.com/</td>\n",
       "      <td>49026</td>\n",
       "      <td>[{\"id\": 849, \"name\": \"dc comics\"}, {\"id\": 853,...</td>\n",
       "      <td>en</td>\n",
       "      <td>The Dark Knight Rises</td>\n",
       "      <td>Following the death of District Attorney Harve...</td>\n",
       "      <td>112.312950</td>\n",
       "      <td>[{\"name\": \"Legendary Pictures\", \"id\": 923}, {\"...</td>\n",
       "      <td>[{\"iso_3166_1\": \"US\", \"name\": \"United States o...</td>\n",
       "      <td>2012-07-16</td>\n",
       "      <td>1084939099</td>\n",
       "      <td>165.0</td>\n",
       "      <td>[{\"iso_639_1\": \"en\", \"name\": \"English\"}]</td>\n",
       "      <td>Released</td>\n",
       "      <td>The Legend Ends</td>\n",
       "      <td>The Dark Knight Rises</td>\n",
       "      <td>7.6</td>\n",
       "      <td>9106</td>\n",
       "    </tr>\n",
       "    <tr>\n",
       "      <th>4</th>\n",
       "      <td>260000000</td>\n",
       "      <td>[{\"id\": 28, \"name\": \"Action\"}, {\"id\": 12, \"nam...</td>\n",
       "      <td>http://movies.disney.com/john-carter</td>\n",
       "      <td>49529</td>\n",
       "      <td>[{\"id\": 818, \"name\": \"based on novel\"}, {\"id\":...</td>\n",
       "      <td>en</td>\n",
       "      <td>John Carter</td>\n",
       "      <td>John Carter is a war-weary, former military ca...</td>\n",
       "      <td>43.926995</td>\n",
       "      <td>[{\"name\": \"Walt Disney Pictures\", \"id\": 2}]</td>\n",
       "      <td>[{\"iso_3166_1\": \"US\", \"name\": \"United States o...</td>\n",
       "      <td>2012-03-07</td>\n",
       "      <td>284139100</td>\n",
       "      <td>132.0</td>\n",
       "      <td>[{\"iso_639_1\": \"en\", \"name\": \"English\"}]</td>\n",
       "      <td>Released</td>\n",
       "      <td>Lost in our world, found in another.</td>\n",
       "      <td>John Carter</td>\n",
       "      <td>6.1</td>\n",
       "      <td>2124</td>\n",
       "    </tr>\n",
       "  </tbody>\n",
       "</table>\n",
       "</div>"
      ],
      "text/plain": [
       "      budget                                             genres  \\\n",
       "0  237000000  [{\"id\": 28, \"name\": \"Action\"}, {\"id\": 12, \"nam...   \n",
       "1  300000000  [{\"id\": 12, \"name\": \"Adventure\"}, {\"id\": 14, \"...   \n",
       "2  245000000  [{\"id\": 28, \"name\": \"Action\"}, {\"id\": 12, \"nam...   \n",
       "3  250000000  [{\"id\": 28, \"name\": \"Action\"}, {\"id\": 80, \"nam...   \n",
       "4  260000000  [{\"id\": 28, \"name\": \"Action\"}, {\"id\": 12, \"nam...   \n",
       "\n",
       "                                       homepage      id  \\\n",
       "0                   http://www.avatarmovie.com/   19995   \n",
       "1  http://disney.go.com/disneypictures/pirates/     285   \n",
       "2   http://www.sonypictures.com/movies/spectre/  206647   \n",
       "3            http://www.thedarkknightrises.com/   49026   \n",
       "4          http://movies.disney.com/john-carter   49529   \n",
       "\n",
       "                                            keywords original_language  \\\n",
       "0  [{\"id\": 1463, \"name\": \"culture clash\"}, {\"id\":...                en   \n",
       "1  [{\"id\": 270, \"name\": \"ocean\"}, {\"id\": 726, \"na...                en   \n",
       "2  [{\"id\": 470, \"name\": \"spy\"}, {\"id\": 818, \"name...                en   \n",
       "3  [{\"id\": 849, \"name\": \"dc comics\"}, {\"id\": 853,...                en   \n",
       "4  [{\"id\": 818, \"name\": \"based on novel\"}, {\"id\":...                en   \n",
       "\n",
       "                             original_title  \\\n",
       "0                                    Avatar   \n",
       "1  Pirates of the Caribbean: At World's End   \n",
       "2                                   Spectre   \n",
       "3                     The Dark Knight Rises   \n",
       "4                               John Carter   \n",
       "\n",
       "                                            overview  popularity  \\\n",
       "0  In the 22nd century, a paraplegic Marine is di...  150.437577   \n",
       "1  Captain Barbossa, long believed to be dead, ha...  139.082615   \n",
       "2  A cryptic message from Bond’s past sends him o...  107.376788   \n",
       "3  Following the death of District Attorney Harve...  112.312950   \n",
       "4  John Carter is a war-weary, former military ca...   43.926995   \n",
       "\n",
       "                                production_companies  \\\n",
       "0  [{\"name\": \"Ingenious Film Partners\", \"id\": 289...   \n",
       "1  [{\"name\": \"Walt Disney Pictures\", \"id\": 2}, {\"...   \n",
       "2  [{\"name\": \"Columbia Pictures\", \"id\": 5}, {\"nam...   \n",
       "3  [{\"name\": \"Legendary Pictures\", \"id\": 923}, {\"...   \n",
       "4        [{\"name\": \"Walt Disney Pictures\", \"id\": 2}]   \n",
       "\n",
       "                                production_countries release_date     revenue  \\\n",
       "0  [{\"iso_3166_1\": \"US\", \"name\": \"United States o...   2009-12-10  2787965087   \n",
       "1  [{\"iso_3166_1\": \"US\", \"name\": \"United States o...   2007-05-19   961000000   \n",
       "2  [{\"iso_3166_1\": \"GB\", \"name\": \"United Kingdom\"...   2015-10-26   880674609   \n",
       "3  [{\"iso_3166_1\": \"US\", \"name\": \"United States o...   2012-07-16  1084939099   \n",
       "4  [{\"iso_3166_1\": \"US\", \"name\": \"United States o...   2012-03-07   284139100   \n",
       "\n",
       "   runtime                                   spoken_languages    status  \\\n",
       "0    162.0  [{\"iso_639_1\": \"en\", \"name\": \"English\"}, {\"iso...  Released   \n",
       "1    169.0           [{\"iso_639_1\": \"en\", \"name\": \"English\"}]  Released   \n",
       "2    148.0  [{\"iso_639_1\": \"fr\", \"name\": \"Fran\\u00e7ais\"},...  Released   \n",
       "3    165.0           [{\"iso_639_1\": \"en\", \"name\": \"English\"}]  Released   \n",
       "4    132.0           [{\"iso_639_1\": \"en\", \"name\": \"English\"}]  Released   \n",
       "\n",
       "                                          tagline  \\\n",
       "0                     Enter the World of Pandora.   \n",
       "1  At the end of the world, the adventure begins.   \n",
       "2                           A Plan No One Escapes   \n",
       "3                                 The Legend Ends   \n",
       "4            Lost in our world, found in another.   \n",
       "\n",
       "                                      title  vote_average  vote_count  \n",
       "0                                    Avatar           7.2       11800  \n",
       "1  Pirates of the Caribbean: At World's End           6.9        4500  \n",
       "2                                   Spectre           6.3        4466  \n",
       "3                     The Dark Knight Rises           7.6        9106  \n",
       "4                               John Carter           6.1        2124  "
      ]
     },
     "execution_count": 3,
     "metadata": {},
     "output_type": "execute_result"
    }
   ],
   "source": [
    "movies = pd.read_csv('../input/tmdb-movie-metadata/tmdb_5000_movies.csv')\n",
    "movies.head(5)"
   ]
  },
  {
   "cell_type": "code",
   "execution_count": 4,
   "metadata": {
    "execution": {
     "iopub.execute_input": "2021-03-13T06:20:05.256672Z",
     "iopub.status.busy": "2021-03-13T06:20:05.255591Z",
     "iopub.status.idle": "2021-03-13T06:20:05.260304Z",
     "shell.execute_reply": "2021-03-13T06:20:05.259722Z"
    },
    "papermill": {
     "duration": 0.028736,
     "end_time": "2021-03-13T06:20:05.260450",
     "exception": false,
     "start_time": "2021-03-13T06:20:05.231714",
     "status": "completed"
    },
    "tags": []
   },
   "outputs": [
    {
     "data": {
      "text/plain": [
       "(4803, 4)"
      ]
     },
     "execution_count": 4,
     "metadata": {},
     "output_type": "execute_result"
    }
   ],
   "source": [
    "credits.shape"
   ]
  },
  {
   "cell_type": "code",
   "execution_count": 5,
   "metadata": {
    "execution": {
     "iopub.execute_input": "2021-03-13T06:20:05.301986Z",
     "iopub.status.busy": "2021-03-13T06:20:05.301252Z",
     "iopub.status.idle": "2021-03-13T06:20:05.306105Z",
     "shell.execute_reply": "2021-03-13T06:20:05.306568Z"
    },
    "papermill": {
     "duration": 0.027394,
     "end_time": "2021-03-13T06:20:05.306765",
     "exception": false,
     "start_time": "2021-03-13T06:20:05.279371",
     "status": "completed"
    },
    "tags": []
   },
   "outputs": [
    {
     "data": {
      "text/plain": [
       "(4803, 20)"
      ]
     },
     "execution_count": 5,
     "metadata": {},
     "output_type": "execute_result"
    }
   ],
   "source": [
    "movies.shape"
   ]
  },
  {
   "cell_type": "code",
   "execution_count": 6,
   "metadata": {
    "execution": {
     "iopub.execute_input": "2021-03-13T06:20:05.349230Z",
     "iopub.status.busy": "2021-03-13T06:20:05.348577Z",
     "iopub.status.idle": "2021-03-13T06:20:05.363862Z",
     "shell.execute_reply": "2021-03-13T06:20:05.364371Z"
    },
    "papermill": {
     "duration": 0.038377,
     "end_time": "2021-03-13T06:20:05.364568",
     "exception": false,
     "start_time": "2021-03-13T06:20:05.326191",
     "status": "completed"
    },
    "tags": []
   },
   "outputs": [
    {
     "data": {
      "text/plain": [
       "budget                     0\n",
       "genres                     0\n",
       "homepage                3091\n",
       "id                         0\n",
       "keywords                   0\n",
       "original_language          0\n",
       "original_title             0\n",
       "overview                   3\n",
       "popularity                 0\n",
       "production_companies       0\n",
       "production_countries       0\n",
       "release_date               1\n",
       "revenue                    0\n",
       "runtime                    2\n",
       "spoken_languages           0\n",
       "status                     0\n",
       "tagline                  844\n",
       "title                      0\n",
       "vote_average               0\n",
       "vote_count                 0\n",
       "dtype: int64"
      ]
     },
     "execution_count": 6,
     "metadata": {},
     "output_type": "execute_result"
    }
   ],
   "source": [
    "movies.isnull().sum()"
   ]
  },
  {
   "cell_type": "markdown",
   "metadata": {
    "papermill": {
     "duration": 0.020674,
     "end_time": "2021-03-13T06:20:05.405189",
     "exception": false,
     "start_time": "2021-03-13T06:20:05.384515",
     "status": "completed"
    },
    "tags": []
   },
   "source": [
    "## How to get the weighted averages"
   ]
  },
  {
   "cell_type": "code",
   "execution_count": 7,
   "metadata": {
    "execution": {
     "iopub.execute_input": "2021-03-13T06:20:05.451248Z",
     "iopub.status.busy": "2021-03-13T06:20:05.450488Z",
     "iopub.status.idle": "2021-03-13T06:20:05.480561Z",
     "shell.execute_reply": "2021-03-13T06:20:05.481107Z"
    },
    "papermill": {
     "duration": 0.056236,
     "end_time": "2021-03-13T06:20:05.481303",
     "exception": false,
     "start_time": "2021-03-13T06:20:05.425067",
     "status": "completed"
    },
    "tags": []
   },
   "outputs": [],
   "source": [
    "V = movies['vote_count']\n",
    "R = movies['vote_average']\n",
    "C = movies['vote_average'].mean()\n",
    "m = movies['vote_count'].quantile(0.7)\n",
    "\n",
    "movies['weight_avg'] = (V/(V+m) * R) + (m/(m+V) * C)"
   ]
  },
  {
   "cell_type": "markdown",
   "metadata": {
    "papermill": {
     "duration": 0.019546,
     "end_time": "2021-03-13T06:20:05.521144",
     "exception": false,
     "start_time": "2021-03-13T06:20:05.501598",
     "status": "completed"
    },
    "tags": []
   },
   "source": [
    "# Building a Basic Recommendation System\n"
   ]
  },
  {
   "cell_type": "markdown",
   "metadata": {
    "papermill": {
     "duration": 0.0194,
     "end_time": "2021-03-13T06:20:05.560431",
     "exception": false,
     "start_time": "2021-03-13T06:20:05.541031",
     "status": "completed"
    },
    "tags": []
   },
   "source": [
    "# Recommendation by Weighted Average Ratings"
   ]
  },
  {
   "cell_type": "code",
   "execution_count": 8,
   "metadata": {
    "execution": {
     "iopub.execute_input": "2021-03-13T06:20:05.605094Z",
     "iopub.status.busy": "2021-03-13T06:20:05.604370Z",
     "iopub.status.idle": "2021-03-13T06:20:06.605744Z",
     "shell.execute_reply": "2021-03-13T06:20:06.605159Z"
    },
    "papermill": {
     "duration": 1.025714,
     "end_time": "2021-03-13T06:20:06.605936",
     "exception": false,
     "start_time": "2021-03-13T06:20:05.580222",
     "status": "completed"
    },
    "tags": []
   },
   "outputs": [],
   "source": [
    "import matplotlib.pyplot as plt\n",
    "import seaborn as sns"
   ]
  },
  {
   "cell_type": "code",
   "execution_count": 9,
   "metadata": {
    "execution": {
     "iopub.execute_input": "2021-03-13T06:20:06.655552Z",
     "iopub.status.busy": "2021-03-13T06:20:06.654748Z",
     "iopub.status.idle": "2021-03-13T06:20:06.946713Z",
     "shell.execute_reply": "2021-03-13T06:20:06.946150Z"
    },
    "papermill": {
     "duration": 0.320369,
     "end_time": "2021-03-13T06:20:06.946920",
     "exception": false,
     "start_time": "2021-03-13T06:20:06.626551",
     "status": "completed"
    },
    "tags": []
   },
   "outputs": [
    {
     "data": {
      "image/png": "[encoded data removed]",
      "text/plain": [
       "<Figure size 1152x576 with 1 Axes>"
      ]
     },
     "metadata": {
      "needs_background": "light"
     },
     "output_type": "display_data"
    }
   ],
   "source": [
    "weight_avg = movies.sort_values('weight_avg', ascending=False)\n",
    "\n",
    "plt.figure(figsize=(16,8))\n",
    "\n",
    "ax = sns.barplot(x=weight_avg['weight_avg'].head(10),\n",
    "                 y=weight_avg['original_title'].head(10),\n",
    "                 data=weight_avg, palette='deep')\n",
    "\n",
    "plt.title(\"Top Voted Movies\")\n",
    "plt.xlabel('Weight Average Score')\n",
    "plt.ylabel('Movie Title')\n",
    "plt.xlim(5, 9)\n",
    "plt.show()"
   ]
  },
  {
   "cell_type": "markdown",
   "metadata": {
    "papermill": {
     "duration": 0.021043,
     "end_time": "2021-03-13T06:20:06.990621",
     "exception": false,
     "start_time": "2021-03-13T06:20:06.969578",
     "status": "completed"
    },
    "tags": []
   },
   "source": [
    "# Recommendation by Popularity"
   ]
  },
  {
   "cell_type": "code",
   "execution_count": 10,
   "metadata": {
    "execution": {
     "iopub.execute_input": "2021-03-13T06:20:07.042746Z",
     "iopub.status.busy": "2021-03-13T06:20:07.041701Z",
     "iopub.status.idle": "2021-03-13T06:20:07.362390Z",
     "shell.execute_reply": "2021-03-13T06:20:07.363031Z"
    },
    "papermill": {
     "duration": 0.350732,
     "end_time": "2021-03-13T06:20:07.363247",
     "exception": false,
     "start_time": "2021-03-13T06:20:07.012515",
     "status": "completed"
    },
    "tags": []
   },
   "outputs": [
    {
     "data": {
      "image/png": "[encoded data removed]",
      "text/plain": [
       "<Figure size 1152x576 with 1 Axes>"
      ]
     },
     "metadata": {
      "needs_background": "light"
     },
     "output_type": "display_data"
    }
   ],
   "source": [
    "popular = movies.sort_values('popularity', ascending=False)\n",
    "\n",
    "plt.figure(figsize=(16,8))\n",
    "\n",
    "ax= sns.barplot(x=popular['popularity'].head(10),\n",
    "                y=popular['original_title'].head(10),\n",
    "                data=popular, palette='deep')\n",
    "\n",
    "plt.title(\"Top Popular Movies\")\n",
    "plt.xlabel('Popular Score')\n",
    "plt.ylabel('Movie Title')\n",
    "\n",
    "plt.show()"
   ]
  },
  {
   "cell_type": "markdown",
   "metadata": {
    "papermill": {
     "duration": 0.021874,
     "end_time": "2021-03-13T06:20:07.407940",
     "exception": false,
     "start_time": "2021-03-13T06:20:07.386066",
     "status": "completed"
    },
    "tags": []
   },
   "source": [
    "# Recommendation by Weight and Popularity"
   ]
  },
  {
   "cell_type": "code",
   "execution_count": 11,
   "metadata": {
    "execution": {
     "iopub.execute_input": "2021-03-13T06:20:07.459379Z",
     "iopub.status.busy": "2021-03-13T06:20:07.458666Z",
     "iopub.status.idle": "2021-03-13T06:20:07.672303Z",
     "shell.execute_reply": "2021-03-13T06:20:07.672810Z"
    },
    "papermill": {
     "duration": 0.242353,
     "end_time": "2021-03-13T06:20:07.673031",
     "exception": false,
     "start_time": "2021-03-13T06:20:07.430678",
     "status": "completed"
    },
    "tags": []
   },
   "outputs": [
    {
     "data": {
      "text/html": [
       "<div>\n",
       "<style scoped>\n",
       "    .dataframe tbody tr th:only-of-type {\n",
       "        vertical-align: middle;\n",
       "    }\n",
       "\n",
       "    .dataframe tbody tr th {\n",
       "        vertical-align: top;\n",
       "    }\n",
       "\n",
       "    .dataframe thead th {\n",
       "        text-align: right;\n",
       "    }\n",
       "</style>\n",
       "<table border=\"1\" class=\"dataframe\">\n",
       "  <thead>\n",
       "    <tr style=\"text-align: right;\">\n",
       "      <th></th>\n",
       "      <th>weight_avg</th>\n",
       "      <th>popularity</th>\n",
       "    </tr>\n",
       "  </thead>\n",
       "  <tbody>\n",
       "    <tr>\n",
       "      <th>0</th>\n",
       "      <td>0.674339</td>\n",
       "      <td>0.171815</td>\n",
       "    </tr>\n",
       "    <tr>\n",
       "      <th>1</th>\n",
       "      <td>0.581403</td>\n",
       "      <td>0.158846</td>\n",
       "    </tr>\n",
       "    <tr>\n",
       "      <th>2</th>\n",
       "      <td>0.436273</td>\n",
       "      <td>0.122635</td>\n",
       "    </tr>\n",
       "    <tr>\n",
       "      <th>3</th>\n",
       "      <td>0.773054</td>\n",
       "      <td>0.128272</td>\n",
       "    </tr>\n",
       "    <tr>\n",
       "      <th>4</th>\n",
       "      <td>0.387739</td>\n",
       "      <td>0.050169</td>\n",
       "    </tr>\n",
       "  </tbody>\n",
       "</table>\n",
       "</div>"
      ],
      "text/plain": [
       "   weight_avg  popularity\n",
       "0    0.674339    0.171815\n",
       "1    0.581403    0.158846\n",
       "2    0.436273    0.122635\n",
       "3    0.773054    0.128272\n",
       "4    0.387739    0.050169"
      ]
     },
     "execution_count": 11,
     "metadata": {},
     "output_type": "execute_result"
    }
   ],
   "source": [
    "from sklearn import preprocessing\n",
    "\n",
    "min_max_scaler = preprocessing.MinMaxScaler()\n",
    "movies_scaler = min_max_scaler.fit_transform(movies[['weight_avg', 'popularity']])\n",
    "movies_norm = pd.DataFrame(movies_scaler, columns=['weight_avg', 'popularity'])\n",
    "\n",
    "movies_norm.head(5)"
   ]
  },
  {
   "cell_type": "code",
   "execution_count": 12,
   "metadata": {
    "execution": {
     "iopub.execute_input": "2021-03-13T06:20:07.729617Z",
     "iopub.status.busy": "2021-03-13T06:20:07.728811Z",
     "iopub.status.idle": "2021-03-13T06:20:07.749510Z",
     "shell.execute_reply": "2021-03-13T06:20:07.748459Z"
    },
    "papermill": {
     "duration": 0.053301,
     "end_time": "2021-03-13T06:20:07.749685",
     "exception": false,
     "start_time": "2021-03-13T06:20:07.696384",
     "status": "completed"
    },
    "tags": []
   },
   "outputs": [
    {
     "data": {
      "text/html": [
       "<div>\n",
       "<style scoped>\n",
       "    .dataframe tbody tr th:only-of-type {\n",
       "        vertical-align: middle;\n",
       "    }\n",
       "\n",
       "    .dataframe tbody tr th {\n",
       "        vertical-align: top;\n",
       "    }\n",
       "\n",
       "    .dataframe thead th {\n",
       "        text-align: right;\n",
       "    }\n",
       "</style>\n",
       "<table border=\"1\" class=\"dataframe\">\n",
       "  <thead>\n",
       "    <tr style=\"text-align: right;\">\n",
       "      <th></th>\n",
       "      <th>original_title</th>\n",
       "      <th>norm_weight_avg</th>\n",
       "      <th>norm_popularity</th>\n",
       "      <th>score</th>\n",
       "    </tr>\n",
       "  </thead>\n",
       "  <tbody>\n",
       "    <tr>\n",
       "      <th>95</th>\n",
       "      <td>Interstellar</td>\n",
       "      <td>0.906439</td>\n",
       "      <td>0.827162</td>\n",
       "      <td>0.866801</td>\n",
       "    </tr>\n",
       "    <tr>\n",
       "      <th>546</th>\n",
       "      <td>Minions</td>\n",
       "      <td>0.460630</td>\n",
       "      <td>1.000000</td>\n",
       "      <td>0.730315</td>\n",
       "    </tr>\n",
       "    <tr>\n",
       "      <th>94</th>\n",
       "      <td>Guardians of the Galaxy</td>\n",
       "      <td>0.851874</td>\n",
       "      <td>0.549462</td>\n",
       "      <td>0.700668</td>\n",
       "    </tr>\n",
       "    <tr>\n",
       "      <th>788</th>\n",
       "      <td>Deadpool</td>\n",
       "      <td>0.725217</td>\n",
       "      <td>0.587690</td>\n",
       "      <td>0.656453</td>\n",
       "    </tr>\n",
       "    <tr>\n",
       "      <th>127</th>\n",
       "      <td>Mad Max: Fury Road</td>\n",
       "      <td>0.670973</td>\n",
       "      <td>0.495989</td>\n",
       "      <td>0.583481</td>\n",
       "    </tr>\n",
       "    <tr>\n",
       "      <th>1881</th>\n",
       "      <td>The Shawshank Redemption</td>\n",
       "      <td>1.000000</td>\n",
       "      <td>0.156179</td>\n",
       "      <td>0.578090</td>\n",
       "    </tr>\n",
       "    <tr>\n",
       "      <th>65</th>\n",
       "      <td>The Dark Knight</td>\n",
       "      <td>0.934991</td>\n",
       "      <td>0.213941</td>\n",
       "      <td>0.574466</td>\n",
       "    </tr>\n",
       "    <tr>\n",
       "      <th>3865</th>\n",
       "      <td>Whiplash</td>\n",
       "      <td>0.916431</td>\n",
       "      <td>0.219887</td>\n",
       "      <td>0.568159</td>\n",
       "    </tr>\n",
       "    <tr>\n",
       "      <th>3337</th>\n",
       "      <td>The Godfather</td>\n",
       "      <td>0.959622</td>\n",
       "      <td>0.164074</td>\n",
       "      <td>0.561848</td>\n",
       "    </tr>\n",
       "    <tr>\n",
       "      <th>662</th>\n",
       "      <td>Fight Club</td>\n",
       "      <td>0.953823</td>\n",
       "      <td>0.167611</td>\n",
       "      <td>0.560717</td>\n",
       "    </tr>\n",
       "    <tr>\n",
       "      <th>96</th>\n",
       "      <td>Inception</td>\n",
       "      <td>0.912039</td>\n",
       "      <td>0.191397</td>\n",
       "      <td>0.551718</td>\n",
       "    </tr>\n",
       "    <tr>\n",
       "      <th>3232</th>\n",
       "      <td>Pulp Fiction</td>\n",
       "      <td>0.949991</td>\n",
       "      <td>0.138723</td>\n",
       "      <td>0.544357</td>\n",
       "    </tr>\n",
       "    <tr>\n",
       "      <th>809</th>\n",
       "      <td>Forrest Gump</td>\n",
       "      <td>0.922264</td>\n",
       "      <td>0.157762</td>\n",
       "      <td>0.540013</td>\n",
       "    </tr>\n",
       "    <tr>\n",
       "      <th>199</th>\n",
       "      <td>Pirates of the Caribbean: The Curse of the Bla...</td>\n",
       "      <td>0.740925</td>\n",
       "      <td>0.310620</td>\n",
       "      <td>0.525772</td>\n",
       "    </tr>\n",
       "    <tr>\n",
       "      <th>2294</th>\n",
       "      <td>千と千尋の神隠し</td>\n",
       "      <td>0.909647</td>\n",
       "      <td>0.135874</td>\n",
       "      <td>0.522761</td>\n",
       "    </tr>\n",
       "    <tr>\n",
       "      <th>88</th>\n",
       "      <td>Big Hero 6</td>\n",
       "      <td>0.812013</td>\n",
       "      <td>0.232685</td>\n",
       "      <td>0.522349</td>\n",
       "    </tr>\n",
       "    <tr>\n",
       "      <th>329</th>\n",
       "      <td>The Lord of the Rings: The Return of the King</td>\n",
       "      <td>0.897418</td>\n",
       "      <td>0.141198</td>\n",
       "      <td>0.519308</td>\n",
       "    </tr>\n",
       "    <tr>\n",
       "      <th>1818</th>\n",
       "      <td>Schindler's List</td>\n",
       "      <td>0.917537</td>\n",
       "      <td>0.119314</td>\n",
       "      <td>0.518426</td>\n",
       "    </tr>\n",
       "    <tr>\n",
       "      <th>2912</th>\n",
       "      <td>Star Wars</td>\n",
       "      <td>0.890055</td>\n",
       "      <td>0.144354</td>\n",
       "      <td>0.517204</td>\n",
       "    </tr>\n",
       "    <tr>\n",
       "      <th>262</th>\n",
       "      <td>The Lord of the Rings: The Fellowship of the Ring</td>\n",
       "      <td>0.874367</td>\n",
       "      <td>0.157666</td>\n",
       "      <td>0.516016</td>\n",
       "    </tr>\n",
       "  </tbody>\n",
       "</table>\n",
       "</div>"
      ],
      "text/plain": [
       "                                         original_title  norm_weight_avg  \\\n",
       "95                                         Interstellar         0.906439   \n",
       "546                                             Minions         0.460630   \n",
       "94                              Guardians of the Galaxy         0.851874   \n",
       "788                                            Deadpool         0.725217   \n",
       "127                                  Mad Max: Fury Road         0.670973   \n",
       "1881                           The Shawshank Redemption         1.000000   \n",
       "65                                      The Dark Knight         0.934991   \n",
       "3865                                           Whiplash         0.916431   \n",
       "3337                                      The Godfather         0.959622   \n",
       "662                                          Fight Club         0.953823   \n",
       "96                                            Inception         0.912039   \n",
       "3232                                       Pulp Fiction         0.949991   \n",
       "809                                        Forrest Gump         0.922264   \n",
       "199   Pirates of the Caribbean: The Curse of the Bla...         0.740925   \n",
       "2294                                           千と千尋の神隠し         0.909647   \n",
       "88                                           Big Hero 6         0.812013   \n",
       "329       The Lord of the Rings: The Return of the King         0.897418   \n",
       "1818                                   Schindler's List         0.917537   \n",
       "2912                                          Star Wars         0.890055   \n",
       "262   The Lord of the Rings: The Fellowship of the Ring         0.874367   \n",
       "\n",
       "      norm_popularity     score  \n",
       "95           0.827162  0.866801  \n",
       "546          1.000000  0.730315  \n",
       "94           0.549462  0.700668  \n",
       "788          0.587690  0.656453  \n",
       "127          0.495989  0.583481  \n",
       "1881         0.156179  0.578090  \n",
       "65           0.213941  0.574466  \n",
       "3865         0.219887  0.568159  \n",
       "3337         0.164074  0.561848  \n",
       "662          0.167611  0.560717  \n",
       "96           0.191397  0.551718  \n",
       "3232         0.138723  0.544357  \n",
       "809          0.157762  0.540013  \n",
       "199          0.310620  0.525772  \n",
       "2294         0.135874  0.522761  \n",
       "88           0.232685  0.522349  \n",
       "329          0.141198  0.519308  \n",
       "1818         0.119314  0.518426  \n",
       "2912         0.144354  0.517204  \n",
       "262          0.157666  0.516016  "
      ]
     },
     "execution_count": 12,
     "metadata": {},
     "output_type": "execute_result"
    }
   ],
   "source": [
    "movies[['norm_weight_avg', 'norm_popularity']] = movies_norm\n",
    "\n",
    "movies['score'] = movies['norm_weight_avg']*0.5 + movies['norm_popularity']*0.5\n",
    "movies_scored = movies.sort_values(['score'], ascending=False)\n",
    "movies_scored[['original_title', 'norm_weight_avg', 'norm_popularity', 'score']].head(20)"
   ]
  },
  {
   "cell_type": "code",
   "execution_count": 13,
   "metadata": {
    "execution": {
     "iopub.execute_input": "2021-03-13T06:20:07.806335Z",
     "iopub.status.busy": "2021-03-13T06:20:07.805617Z",
     "iopub.status.idle": "2021-03-13T06:20:08.032884Z",
     "shell.execute_reply": "2021-03-13T06:20:08.032293Z"
    },
    "papermill": {
     "duration": 0.258711,
     "end_time": "2021-03-13T06:20:08.033043",
     "exception": false,
     "start_time": "2021-03-13T06:20:07.774332",
     "status": "completed"
    },
    "tags": []
   },
   "outputs": [
    {
     "data": {
      "image/png": "[encoded data removed]",
      "text/plain": [
       "<Figure size 1152x432 with 1 Axes>"
      ]
     },
     "metadata": {
      "needs_background": "light"
     },
     "output_type": "display_data"
    }
   ],
   "source": [
    "score = movies.sort_values('score', ascending=False)\n",
    "\n",
    "plt.figure(figsize=(16,6))\n",
    "\n",
    "ax = sns.barplot(x=score['score'].head(10),\n",
    "                 y=score['original_title'].head(10),\n",
    "                 data=score, palette='deep')\n",
    "\n",
    "plt.title(\"Top Rating&Popular Movies\")\n",
    "plt.xlabel('Score')\n",
    "plt.ylabel('Movie Title')\n",
    "\n",
    "plt.show()"
   ]
  },
  {
   "cell_type": "markdown",
   "metadata": {
    "papermill": {
     "duration": 0.024908,
     "end_time": "2021-03-13T06:20:08.083912",
     "exception": false,
     "start_time": "2021-03-13T06:20:08.059004",
     "status": "completed"
    },
    "tags": []
   },
   "source": [
    "# **Content-Based Filtering**"
   ]
  },
  {
   "cell_type": "markdown",
   "metadata": {
    "papermill": {
     "duration": 0.024851,
     "end_time": "2021-03-13T06:20:08.133574",
     "exception": false,
     "start_time": "2021-03-13T06:20:08.108723",
     "status": "completed"
    },
    "tags": []
   },
   "source": [
    "## Recommendation by sharing similar plot summaries"
   ]
  },
  {
   "cell_type": "markdown",
   "metadata": {
    "papermill": {
     "duration": 0.024791,
     "end_time": "2021-03-13T06:20:08.183350",
     "exception": false,
     "start_time": "2021-03-13T06:20:08.158559",
     "status": "completed"
    },
    "tags": []
   },
   "source": [
    "#### Word Vectorization and TF-IDF to convert test in the overview to word vectors"
   ]
  },
  {
   "cell_type": "code",
   "execution_count": 14,
   "metadata": {
    "execution": {
     "iopub.execute_input": "2021-03-13T06:20:08.239024Z",
     "iopub.status.busy": "2021-03-13T06:20:08.238295Z",
     "iopub.status.idle": "2021-03-13T06:20:08.258472Z",
     "shell.execute_reply": "2021-03-13T06:20:08.257791Z"
    },
    "papermill": {
     "duration": 0.050157,
     "end_time": "2021-03-13T06:20:08.258628",
     "exception": false,
     "start_time": "2021-03-13T06:20:08.208471",
     "status": "completed"
    },
    "tags": []
   },
   "outputs": [],
   "source": [
    "from sklearn.feature_extraction.text import TfidfVectorizer"
   ]
  },
  {
   "cell_type": "markdown",
   "metadata": {
    "papermill": {
     "duration": 0.024962,
     "end_time": "2021-03-13T06:20:08.308989",
     "exception": false,
     "start_time": "2021-03-13T06:20:08.284027",
     "status": "completed"
    },
    "tags": []
   },
   "source": [
    "#### Abhishek Thakur's arguments for TF-IDF"
   ]
  },
  {
   "cell_type": "code",
   "execution_count": 15,
   "metadata": {
    "execution": {
     "iopub.execute_input": "2021-03-13T06:20:08.366326Z",
     "iopub.status.busy": "2021-03-13T06:20:08.365657Z",
     "iopub.status.idle": "2021-03-13T06:20:08.369567Z",
     "shell.execute_reply": "2021-03-13T06:20:08.368919Z"
    },
    "papermill": {
     "duration": 0.034842,
     "end_time": "2021-03-13T06:20:08.369715",
     "exception": false,
     "start_time": "2021-03-13T06:20:08.334873",
     "status": "completed"
    },
    "tags": []
   },
   "outputs": [],
   "source": [
    "tfv = TfidfVectorizer(min_df=3,  max_features=None, \n",
    "            strip_accents='unicode', analyzer='word',token_pattern=r'\\w{1,}',\n",
    "            ngram_range=(1, 3), use_idf=1,smooth_idf=1,sublinear_tf=1,\n",
    "            stop_words = 'english')"
   ]
  },
  {
   "cell_type": "code",
   "execution_count": 16,
   "metadata": {
    "execution": {
     "iopub.execute_input": "2021-03-13T06:20:08.432605Z",
     "iopub.status.busy": "2021-03-13T06:20:08.425999Z",
     "iopub.status.idle": "2021-03-13T06:20:09.469046Z",
     "shell.execute_reply": "2021-03-13T06:20:09.468250Z"
    },
    "papermill": {
     "duration": 1.074193,
     "end_time": "2021-03-13T06:20:09.469208",
     "exception": false,
     "start_time": "2021-03-13T06:20:08.395015",
     "status": "completed"
    },
    "tags": []
   },
   "outputs": [
    {
     "data": {
      "text/plain": [
       "(4803, 10417)"
      ]
     },
     "execution_count": 16,
     "metadata": {},
     "output_type": "execute_result"
    }
   ],
   "source": [
    "movies['overview'] = movies['overview'].fillna('')\n",
    "\n",
    "tfv_matrix = tfv.fit_transform(movies['overview'])\n",
    "tfv_matrix.shape"
   ]
  },
  {
   "cell_type": "markdown",
   "metadata": {
    "papermill": {
     "duration": 0.025657,
     "end_time": "2021-03-13T06:20:09.521433",
     "exception": false,
     "start_time": "2021-03-13T06:20:09.495776",
     "status": "completed"
    },
    "tags": []
   },
   "source": [
    "## Calculating Similarity Scores\n"
   ]
  },
  {
   "cell_type": "code",
   "execution_count": 17,
   "metadata": {
    "execution": {
     "iopub.execute_input": "2021-03-13T06:20:09.581280Z",
     "iopub.status.busy": "2021-03-13T06:20:09.580462Z",
     "iopub.status.idle": "2021-03-13T06:20:10.788427Z",
     "shell.execute_reply": "2021-03-13T06:20:10.787729Z"
    },
    "papermill": {
     "duration": 1.240979,
     "end_time": "2021-03-13T06:20:10.788584",
     "exception": false,
     "start_time": "2021-03-13T06:20:09.547605",
     "status": "completed"
    },
    "tags": []
   },
   "outputs": [],
   "source": [
    "from sklearn.metrics.pairwise import sigmoid_kernel\n",
    "\n",
    "sigmoid = sigmoid_kernel(tfv_matrix, tfv_matrix)\n",
    "\n",
    "indices = pd.Series(movies.index, index=movies['original_title']).drop_duplicates()\n",
    "\n",
    "def recommend(title, sig=sigmoid):\n",
    "    index = indices[title]\n",
    "    score = list(enumerate(sigmoid[index]))\n",
    "    score = sorted(score, key=lambda x: x[1], reverse=True)\n",
    "    \n",
    "    #score of first 10 similar movies\n",
    "    score = score[1:11]\n",
    "    \n",
    "    movie_index = [i[0] for i in score]\n",
    "    \n",
    "    return movies['original_title'].iloc[movie_index]"
   ]
  },
  {
   "cell_type": "code",
   "execution_count": 18,
   "metadata": {
    "execution": {
     "iopub.execute_input": "2021-03-13T06:20:10.855477Z",
     "iopub.status.busy": "2021-03-13T06:20:10.854462Z",
     "iopub.status.idle": "2021-03-13T06:20:10.859814Z",
     "shell.execute_reply": "2021-03-13T06:20:10.859166Z"
    },
    "papermill": {
     "duration": 0.044188,
     "end_time": "2021-03-13T06:20:10.859985",
     "exception": false,
     "start_time": "2021-03-13T06:20:10.815797",
     "status": "completed"
    },
    "tags": []
   },
   "outputs": [
    {
     "data": {
      "text/plain": [
       "1162    He's Just Not That Into You\n",
       "1631                       Mr. 3000\n",
       "4310            Grand Theft Parsons\n",
       "4009          2016: Obama's America\n",
       "3193                       Barbecue\n",
       "1363                       Spy Kids\n",
       "4795                           Bang\n",
       "3076             The House of Mirth\n",
       "702                 The Italian Job\n",
       "460                       Zookeeper\n",
       "Name: original_title, dtype: object"
      ]
     },
     "execution_count": 18,
     "metadata": {},
     "output_type": "execute_result"
    }
   ],
   "source": [
    "recommend('In Too Deep')"
   ]
  },
  {
   "cell_type": "code",
   "execution_count": 19,
   "metadata": {
    "execution": {
     "iopub.execute_input": "2021-03-13T06:20:10.925938Z",
     "iopub.status.busy": "2021-03-13T06:20:10.924804Z",
     "iopub.status.idle": "2021-03-13T06:20:10.930342Z",
     "shell.execute_reply": "2021-03-13T06:20:10.929636Z"
    },
    "papermill": {
     "duration": 0.043914,
     "end_time": "2021-03-13T06:20:10.930495",
     "exception": false,
     "start_time": "2021-03-13T06:20:10.886581",
     "status": "completed"
    },
    "tags": []
   },
   "outputs": [
    {
     "data": {
      "text/plain": [
       "506                           Despicable Me 2\n",
       "221                           Stuart Little 2\n",
       "1218                           The Guilt Trip\n",
       "505     The League of Extraordinary Gentlemen\n",
       "3188                          Velvet Goldmine\n",
       "2892                        Darling Companion\n",
       "4403                           The Jimmy Show\n",
       "990                        The Scarlet Letter\n",
       "70                             Wild Wild West\n",
       "2511                               Home Alone\n",
       "Name: original_title, dtype: object"
      ]
     },
     "execution_count": 19,
     "metadata": {},
     "output_type": "execute_result"
    }
   ],
   "source": [
    "recommend('Minions')"
   ]
  },
  {
   "cell_type": "code",
   "execution_count": null,
   "metadata": {
    "papermill": {
     "duration": 0.026896,
     "end_time": "2021-03-13T06:20:10.984162",
     "exception": false,
     "start_time": "2021-03-13T06:20:10.957266",
     "status": "completed"
    },
    "tags": []
   },
   "outputs": [],
   "source": []
  }
 ],
 "metadata": {
  "kernelspec": {
   "display_name": "Python 3",
   "language": "python",
   "name": "python3"
  },
  "language_info": {
   "codemirror_mode": {
    "name": "ipython",
    "version": 3
   },
   "file_extension": ".py",
   "mimetype": "text/x-python",
   "name": "python",
   "nbconvert_exporter": "python",
   "pygments_lexer": "ipython3",
   "version": "3.7.9"
  },
  "papermill": {
   "default_parameters": {},
   "duration": 13.9019,
   "end_time": "2021-03-13T06:20:11.724780",
   "environment_variables": {},
   "exception": null,
   "input_path": "__notebook__.ipynb",
   "output_path": "__notebook__.ipynb",
   "parameters": {},
   "start_time": "2021-03-13T06:19:57.822880",
   "version": "2.2.2"
  }
 },
 "nbformat": 4,
 "nbformat_minor": 4
}
