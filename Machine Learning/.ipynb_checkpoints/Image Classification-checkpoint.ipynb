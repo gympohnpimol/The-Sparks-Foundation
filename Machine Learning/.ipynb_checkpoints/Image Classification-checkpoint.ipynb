{
 "cells": [
  {
   "cell_type": "code",
   "execution_count": 2,
   "metadata": {},
   "outputs": [],
   "source": [
    "import os\n",
    "import numpy as np\n",
    "from keras.models import Sequential\n",
    "from keras.layers import Activation, Dropout, Flatten, Dense\n",
    "from keras.preprocessing.image import ImageDataGenerator\n",
    "from keras.layers import Convolution2D, MaxPooling2D, ZeroPadding2D\n",
    "from keras import optimizers"
   ]
  },
  {
   "cell_type": "code",
   "execution_count": 3,
   "metadata": {},
   "outputs": [],
   "source": [
    "# images dimension\n",
    "img_width, img_height = 150, 150\n",
    "\n",
    "train_data_dir = 'dataset/train'\n",
    "test_data_dir = 'dataset/test'"
   ]
  },
  {
   "cell_type": "code",
   "execution_count": 4,
   "metadata": {},
   "outputs": [],
   "source": [
    "# used to rescale the pixel values from [0, 255] to [0, 1] interval\n",
    "\n",
    "datagen = ImageDataGenerator(rescale=1./255)"
   ]
  },
  {
   "cell_type": "code",
   "execution_count": 5,
   "metadata": {},
   "outputs": [
    {
     "name": "stdout",
     "output_type": "stream",
     "text": [
      "Found 2000 images belonging to 2 classes.\n",
      "Found 802 images belonging to 2 classes.\n"
     ]
    }
   ],
   "source": [
    "# automagically retrieve images and their classes for train and validation sets\n",
    "\n",
    "train_generator = datagen.flow_from_directory(\n",
    "                    train_data_dir,\n",
    "                    target_size=(img_width, img_height), \n",
    "                    batch_size=16, class_mode='binary')\n",
    "\n",
    "test_generator = datagen.flow_from_directory(\n",
    "                    test_data_dir,\n",
    "                    target_size=(img_width, img_height),\n",
    "                    batch_size=32, class_mode='binary')"
   ]
  },
  {
   "cell_type": "markdown",
   "metadata": {},
   "source": [
    "## Small Conv Net\n",
    "\n",
    "### Model architecture definition"
   ]
  },
  {
   "cell_type": "code",
   "execution_count": 6,
   "metadata": {},
   "outputs": [],
   "source": [
    "model = Sequential()\n",
    "model.add(Convolution2D(32, 3, 3, input_shape=(img_width, img_height, 3)))\n",
    "model.add(Activation('relu'))\n",
    "model.add(MaxPooling2D(pool_size=(2, 2)))\n",
    "\n",
    "model.add(Convolution2D(32, 3, 3))\n",
    "model.add(Activation('relu'))\n",
    "model.add(MaxPooling2D(pool_size=(2, 2)))\n",
    "\n",
    "model.add(Flatten())\n",
    "model.add(Dense(64))\n",
    "model.add(Activation('relu'))\n",
    "model.add(Dropout(0.5))\n",
    "model.add(Dense(1))\n",
    "model.add(Activation('sigmoid'))"
   ]
  },
  {
   "cell_type": "code",
   "execution_count": 7,
   "metadata": {},
   "outputs": [],
   "source": [
    "model.compile(loss='binary_crossentropy',\n",
    "             optimizer='rmsprop',\n",
    "             metrics=['accuracy'])"
   ]
  },
  {
   "cell_type": "markdown",
   "metadata": {},
   "source": [
    "## Training"
   ]
  },
  {
   "cell_type": "code",
   "execution_count": 8,
   "metadata": {},
   "outputs": [],
   "source": [
    "nb_epoch = 30\n",
    "nb_train_samples = 2000\n",
    "nb_test_samples = 802"
   ]
  },
  {
   "cell_type": "code",
   "execution_count": 20,
   "metadata": {},
   "outputs": [
    {
     "name": "stdout",
     "output_type": "stream",
     "text": [
      "Epoch 1/30\n",
      "125/125 [==============================] - 7s 57ms/step - loss: 0.6615 - accuracy: 0.6000 - val_loss: 0.6473 - val_accuracy: 0.5885\n",
      "Epoch 2/30\n",
      "125/125 [==============================] - 7s 58ms/step - loss: 0.6315 - accuracy: 0.6535 - val_loss: 0.6230 - val_accuracy: 0.6384\n",
      "Epoch 3/30\n",
      "125/125 [==============================] - 8s 64ms/step - loss: 0.6026 - accuracy: 0.6740 - val_loss: 0.5979 - val_accuracy: 0.6820\n",
      "Epoch 4/30\n",
      "125/125 [==============================] - 7s 56ms/step - loss: 0.5784 - accuracy: 0.7005 - val_loss: 0.6223 - val_accuracy: 0.6496\n",
      "Epoch 5/30\n",
      "125/125 [==============================] - 7s 57ms/step - loss: 0.5518 - accuracy: 0.7325 - val_loss: 0.5790 - val_accuracy: 0.7082\n",
      "Epoch 6/30\n",
      "125/125 [==============================] - 7s 56ms/step - loss: 0.5373 - accuracy: 0.7370 - val_loss: 0.5815 - val_accuracy: 0.6895\n",
      "Epoch 7/30\n",
      "125/125 [==============================] - 7s 55ms/step - loss: 0.5050 - accuracy: 0.7515 - val_loss: 0.5778 - val_accuracy: 0.6970\n",
      "Epoch 8/30\n",
      "125/125 [==============================] - 7s 55ms/step - loss: 0.4898 - accuracy: 0.7605 - val_loss: 0.5661 - val_accuracy: 0.7007\n",
      "Epoch 9/30\n",
      "125/125 [==============================] - 7s 55ms/step - loss: 0.4699 - accuracy: 0.7675 - val_loss: 0.5596 - val_accuracy: 0.7232\n",
      "Epoch 10/30\n",
      "125/125 [==============================] - 7s 55ms/step - loss: 0.4398 - accuracy: 0.8095 - val_loss: 0.5368 - val_accuracy: 0.7294\n",
      "Epoch 11/30\n",
      "125/125 [==============================] - 7s 55ms/step - loss: 0.4232 - accuracy: 0.8155 - val_loss: 0.5631 - val_accuracy: 0.7120\n",
      "Epoch 12/30\n",
      "125/125 [==============================] - 7s 55ms/step - loss: 0.3794 - accuracy: 0.8280 - val_loss: 0.5794 - val_accuracy: 0.7107\n",
      "Epoch 13/30\n",
      "125/125 [==============================] - 8s 61ms/step - loss: 0.3638 - accuracy: 0.8330 - val_loss: 0.6160 - val_accuracy: 0.7170\n",
      "Epoch 14/30\n",
      "125/125 [==============================] - 7s 54ms/step - loss: 0.3384 - accuracy: 0.8570 - val_loss: 0.5617 - val_accuracy: 0.7232\n",
      "Epoch 15/30\n",
      "125/125 [==============================] - 7s 53ms/step - loss: 0.3204 - accuracy: 0.8690 - val_loss: 0.6457 - val_accuracy: 0.7045\n",
      "Epoch 16/30\n",
      "125/125 [==============================] - 7s 54ms/step - loss: 0.3090 - accuracy: 0.8635 - val_loss: 0.6363 - val_accuracy: 0.7307\n",
      "Epoch 17/30\n",
      "125/125 [==============================] - 6s 51ms/step - loss: 0.2682 - accuracy: 0.8875 - val_loss: 0.6606 - val_accuracy: 0.7219\n",
      "Epoch 18/30\n",
      "125/125 [==============================] - 7s 52ms/step - loss: 0.2455 - accuracy: 0.8945 - val_loss: 0.6609 - val_accuracy: 0.7282\n",
      "Epoch 19/30\n",
      "125/125 [==============================] - 7s 53ms/step - loss: 0.2243 - accuracy: 0.9105 - val_loss: 0.6893 - val_accuracy: 0.7232\n",
      "Epoch 20/30\n",
      "125/125 [==============================] - 6s 52ms/step - loss: 0.2009 - accuracy: 0.9195 - val_loss: 0.6658 - val_accuracy: 0.7145\n",
      "Epoch 21/30\n",
      "125/125 [==============================] - 7s 53ms/step - loss: 0.1904 - accuracy: 0.9275 - val_loss: 0.7190 - val_accuracy: 0.7369\n",
      "Epoch 22/30\n",
      "125/125 [==============================] - 12s 99ms/step - loss: 0.1637 - accuracy: 0.9435 - val_loss: 0.8172 - val_accuracy: 0.7344\n",
      "Epoch 23/30\n",
      "125/125 [==============================] - 10s 84ms/step - loss: 0.1604 - accuracy: 0.9320 - val_loss: 0.8422 - val_accuracy: 0.7232\n",
      "Epoch 24/30\n",
      "125/125 [==============================] - 7s 54ms/step - loss: 0.1412 - accuracy: 0.9465 - val_loss: 0.8399 - val_accuracy: 0.7382\n",
      "Epoch 25/30\n",
      "125/125 [==============================] - 6s 52ms/step - loss: 0.1205 - accuracy: 0.9510 - val_loss: 0.9867 - val_accuracy: 0.7307\n",
      "Epoch 26/30\n",
      "125/125 [==============================] - 7s 54ms/step - loss: 0.1074 - accuracy: 0.9595 - val_loss: 0.9675 - val_accuracy: 0.7332\n",
      "Epoch 27/30\n",
      "125/125 [==============================] - 8s 60ms/step - loss: 0.1061 - accuracy: 0.9665 - val_loss: 0.9368 - val_accuracy: 0.7469\n",
      "Epoch 28/30\n",
      "125/125 [==============================] - 7s 57ms/step - loss: 0.0942 - accuracy: 0.9700 - val_loss: 0.9927 - val_accuracy: 0.7382\n",
      "Epoch 29/30\n",
      "125/125 [==============================] - 7s 52ms/step - loss: 0.0795 - accuracy: 0.9715 - val_loss: 1.0885 - val_accuracy: 0.7145\n",
      "Epoch 30/30\n",
      "125/125 [==============================] - 7s 52ms/step - loss: 0.0664 - accuracy: 0.9750 - val_loss: 1.1790 - val_accuracy: 0.7219\n"
     ]
    },
    {
     "data": {
      "text/plain": [
       "<tensorflow.python.keras.callbacks.History at 0x7feafa5407f0>"
      ]
     },
     "execution_count": 20,
     "metadata": {},
     "output_type": "execute_result"
    }
   ],
   "source": [
    "model.fit(train_generator, \n",
    "          epochs=nb_epoch, \n",
    "          validation_data=test_generator)"
   ]
  },
  {
   "cell_type": "markdown",
   "metadata": {},
   "source": []
  }
 ],
 "metadata": {
  "kernelspec": {
   "display_name": "Python 3",
   "language": "python",
   "name": "python3"
  },
  "language_info": {
   "codemirror_mode": {
    "name": "ipython",
    "version": 3
   },
   "file_extension": ".py",
   "mimetype": "text/x-python",
   "name": "python",
   "nbconvert_exporter": "python",
   "pygments_lexer": "ipython3",
   "version": "3.8.3"
  }
 },
 "nbformat": 4,
 "nbformat_minor": 4
}
