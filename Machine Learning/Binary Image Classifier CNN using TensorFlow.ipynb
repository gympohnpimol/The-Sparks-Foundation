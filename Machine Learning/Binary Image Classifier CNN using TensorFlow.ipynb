{
 "cells": [
  {
   "cell_type": "code",
   "execution_count": 1,
   "metadata": {},
   "outputs": [],
   "source": [
    "import os\n",
    "import numpy"
   ]
  },
  {
   "cell_type": "code",
   "execution_count": 2,
   "metadata": {},
   "outputs": [],
   "source": [
    "from keras.models import Sequential\n",
    "from keras.layers import Activation, Dropout, Flatten, Dense\n",
    "from keras.preprocessing.image import ImageDataGenerator\n",
    "from keras.layers import Convolution2D, MaxPooling2D, ZeroPadding2D\n",
    "from keras import optimizers\n",
    "\n",
    "import h5py"
   ]
  },
  {
   "cell_type": "code",
   "execution_count": 3,
   "metadata": {},
   "outputs": [],
   "source": [
    "img_width, img_height = 150, 150\n",
    "\n",
    "train_data_dir = 'training_set'\n",
    "test_data_dir = 'test_set'"
   ]
  },
  {
   "cell_type": "code",
   "execution_count": 4,
   "metadata": {},
   "outputs": [],
   "source": [
    "datagen = ImageDataGenerator(rescale=1./255)"
   ]
  },
  {
   "cell_type": "code",
   "execution_count": 5,
   "metadata": {},
   "outputs": [
    {
     "name": "stdout",
     "output_type": "stream",
     "text": [
      "Found 8000 images belonging to 2 classes.\n",
      "Found 2000 images belonging to 2 classes.\n"
     ]
    }
   ],
   "source": [
    "train_generator = datagen.flow_from_directory(\n",
    "                    train_data_dir,\n",
    "                    target_size=(img_width, img_height),\n",
    "                    batch_size=132,\n",
    "                    class_mode='binary')\n",
    "\n",
    "validation_generator = datagen.flow_from_directory(\n",
    "                        test_data_dir,\n",
    "                        target_size=(img_width, img_height),\n",
    "                        batch_size=32,\n",
    "                        class_mode='binary'\n",
    "                    )"
   ]
  },
  {
   "cell_type": "code",
   "execution_count": 6,
   "metadata": {},
   "outputs": [
    {
     "data": {
      "text/plain": [
       "{'cats': 0, 'dogs': 1}"
      ]
     },
     "execution_count": 6,
     "metadata": {},
     "output_type": "execute_result"
    }
   ],
   "source": [
    "validation_generator.class_indices"
   ]
  },
  {
   "cell_type": "markdown",
   "metadata": {},
   "source": [
    "## Defining our CNN Model Layers"
   ]
  },
  {
   "cell_type": "code",
   "execution_count": 7,
   "metadata": {},
   "outputs": [],
   "source": [
    "from tensorflow import keras\n",
    "\n",
    "model = keras.Sequential()\n",
    "\n",
    "model.add(keras.layers.Conv2D(32, (3,3), activation='relu', input_shape=(150, 150, 3)))\n",
    "model.add(keras.layers.MaxPool2D(2, 2))\n",
    "\n",
    "model.add(keras.layers.Conv2D(64, (3,3), activation='relu',))\n",
    "model.add(keras.layers.MaxPool2D(2, 2))\n",
    "\n",
    "model.add(keras.layers.Conv2D(128, (3,3), activation='relu'))\n",
    "model.add(keras.layers.MaxPool2D(2, 2))\n",
    "\n",
    "model.add(keras.layers.Conv2D(128, (3,3), activation='relu'))\n",
    "model.add(keras.layers.MaxPool2D(2, 2))"
   ]
  },
  {
   "cell_type": "markdown",
   "metadata": {},
   "source": [
    "#### This layer flattens the resulting image array to 1D array"
   ]
  },
  {
   "cell_type": "code",
   "execution_count": 8,
   "metadata": {},
   "outputs": [],
   "source": [
    "model.add(keras.layers.Flatten())"
   ]
  },
  {
   "cell_type": "markdown",
   "metadata": {},
   "source": [
    "#### Hidden layer with 512 neurons and Rectified Linear Unit activation function"
   ]
  },
  {
   "cell_type": "code",
   "execution_count": 9,
   "metadata": {},
   "outputs": [],
   "source": [
    "model.add(keras.layers.Dense(512, activation='relu'))"
   ]
  },
  {
   "cell_type": "markdown",
   "metadata": {},
   "source": [
    "#### Sigmoid activation function which makes our model output to lie between 0 and 1"
   ]
  },
  {
   "cell_type": "code",
   "execution_count": 10,
   "metadata": {},
   "outputs": [],
   "source": [
    "model.add(keras.layers.Dense(1, activation='sigmoid'))"
   ]
  },
  {
   "cell_type": "code",
   "execution_count": 11,
   "metadata": {},
   "outputs": [],
   "source": [
    "model.compile(optimizer='adam', loss='binary_crossentropy', metrics=['accuracy'])"
   ]
  },
  {
   "cell_type": "markdown",
   "metadata": {},
   "source": [
    "## Training Model"
   ]
  },
  {
   "cell_type": "code",
   "execution_count": 12,
   "metadata": {},
   "outputs": [
    {
     "name": "stdout",
     "output_type": "stream",
     "text": [
      "Epoch 1/10\n",
      "40/40 [==============================] - 80s 2s/step - loss: 0.8190 - accuracy: 0.4942 - val_loss: 0.6932 - val_accuracy: 0.5000\n",
      "Epoch 2/10\n",
      "40/40 [==============================] - 82s 2s/step - loss: 0.6872 - accuracy: 0.5337 - val_loss: 0.6659 - val_accuracy: 0.5940\n",
      "Epoch 3/10\n",
      "40/40 [==============================] - 82s 2s/step - loss: 0.6616 - accuracy: 0.6048 - val_loss: 0.6246 - val_accuracy: 0.6460\n",
      "Epoch 4/10\n",
      "40/40 [==============================] - 77s 2s/step - loss: 0.6366 - accuracy: 0.6386 - val_loss: 0.6153 - val_accuracy: 0.6625\n",
      "Epoch 5/10\n",
      "40/40 [==============================] - 78s 2s/step - loss: 0.5812 - accuracy: 0.6904 - val_loss: 0.5625 - val_accuracy: 0.7100\n",
      "Epoch 6/10\n",
      "40/40 [==============================] - 77s 2s/step - loss: 0.5559 - accuracy: 0.7206 - val_loss: 0.5314 - val_accuracy: 0.7380\n",
      "Epoch 7/10\n",
      "40/40 [==============================] - 77s 2s/step - loss: 0.5048 - accuracy: 0.7396 - val_loss: 0.4987 - val_accuracy: 0.7605\n",
      "Epoch 8/10\n",
      "40/40 [==============================] - 77s 2s/step - loss: 0.4530 - accuracy: 0.7846 - val_loss: 0.4972 - val_accuracy: 0.7735\n",
      "Epoch 9/10\n",
      "40/40 [==============================] - 80s 2s/step - loss: 0.4431 - accuracy: 0.7983 - val_loss: 0.4595 - val_accuracy: 0.7830\n",
      "Epoch 10/10\n",
      "40/40 [==============================] - 80s 2s/step - loss: 0.4036 - accuracy: 0.8156 - val_loss: 0.4642 - val_accuracy: 0.7865\n"
     ]
    },
    {
     "data": {
      "text/plain": [
       "<tensorflow.python.keras.callbacks.History at 0x7fc42febea60>"
      ]
     },
     "execution_count": 12,
     "metadata": {},
     "output_type": "execute_result"
    }
   ],
   "source": [
    "model.fit(\n",
    "    train_generator,\n",
    "    steps_per_epoch=40,\n",
    "    epochs=10,\n",
    "    validation_data=validation_generator)"
   ]
  },
  {
   "cell_type": "markdown",
   "metadata": {},
   "source": [
    "## Making Prediction"
   ]
  },
  {
   "cell_type": "code",
   "execution_count": 13,
   "metadata": {},
   "outputs": [],
   "source": [
    "def predictionImage(name):\n",
    "    img1 = image.load_img(name, target_size=(150, 150))\n",
    "    plt.imshow(img1)\n",
    "    y=image.img_to_array(img1)\n",
    "    x=np.expand_dims(y, axis=0)\n",
    "    \n",
    "    val=model.predict(x)\n",
    "    print(val)\n",
    "    \n",
    "    if val==1: plt.xlable(\"DOG\", fontsize=30)\n",
    "    elif val==0: plt.xlabel(\"CAT\", fontsize=30)"
   ]
  },
  {
   "cell_type": "markdown",
   "metadata": {},
   "source": [
    "predictionImage(r'...path')"
   ]
  },
  {
   "cell_type": "code",
   "execution_count": null,
   "metadata": {},
   "outputs": [],
   "source": []
  }
 ],
 "metadata": {
  "kernelspec": {
   "display_name": "Python 3",
   "language": "python",
   "name": "python3"
  },
  "language_info": {
   "codemirror_mode": {
    "name": "ipython",
    "version": 3
   },
   "file_extension": ".py",
   "mimetype": "text/x-python",
   "name": "python",
   "nbconvert_exporter": "python",
   "pygments_lexer": "ipython3",
   "version": "3.8.3"
  }
 },
 "nbformat": 4,
 "nbformat_minor": 4
}
